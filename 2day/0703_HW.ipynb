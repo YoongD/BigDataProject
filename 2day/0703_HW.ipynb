{
 "cells": [
  {
   "cell_type": "markdown",
   "metadata": {},
   "source": [
    "# 빅데이터 교육 2일차 과제  (박윤지)"
   ]
  },
  {
   "cell_type": "markdown",
   "metadata": {},
   "source": [
    "## 1. exercise 105"
   ]
  },
  {
   "cell_type": "code",
   "execution_count": 50,
   "metadata": {},
   "outputs": [
    {
     "name": "stdout",
     "output_type": "stream",
     "text": [
      "5\n",
      "7\n",
      "-1\n",
      "3\n",
      "5\n",
      "4\n",
      "0\n",
      "<result>\n",
      "4\n",
      "5\n",
      "3\n",
      "-1\n",
      "7\n",
      "5\n"
     ]
    }
   ],
   "source": [
    "myList = []\n",
    "while 1:\n",
    "    a = input()\n",
    "    try:\n",
    "        b = int(a)\n",
    "        if b == 0:\n",
    "            break\n",
    "        myList.append(b)\n",
    "    except ValueError:\n",
    "        print('숫자를 입력하세요.')\n",
    "myList.reverse()\n",
    "print('<result>')\n",
    "for i in myList:\n",
    "    print(i)"
   ]
  },
  {
   "cell_type": "markdown",
   "metadata": {},
   "source": [
    "## 2. exercise 107"
   ]
  },
  {
   "cell_type": "code",
   "execution_count": 3,
   "metadata": {},
   "outputs": [
    {
     "name": "stdout",
     "output_type": "stream",
     "text": [
      "first\n",
      "second\n",
      "third\n",
      "first\n",
      "second\n",
      "\n",
      "first\n",
      "second\n",
      "third\n"
     ]
    }
   ],
   "source": [
    "myStrList = []\n",
    "while 1:\n",
    "    a = input()\n",
    "    if a is '':\n",
    "        break\n",
    "    if a not in myStrList:\n",
    "        myStrList.append(a)\n",
    "\n",
    "for i in myStrList:\n",
    "    print(i)"
   ]
  },
  {
   "cell_type": "markdown",
   "metadata": {},
   "source": [
    "### 3. exercise 108"
   ]
  },
  {
   "cell_type": "code",
   "execution_count": 7,
   "metadata": {},
   "outputs": [
    {
     "name": "stdout",
     "output_type": "stream",
     "text": [
      "3\n",
      "-4\n",
      "1\n",
      "0\n",
      "-1\n",
      "0\n",
      "-2\n",
      "\n",
      "-4\n",
      "-1\n",
      "-2\n",
      "0\n",
      "0\n",
      "3\n",
      "1\n"
     ]
    }
   ],
   "source": [
    "myNumList = [[],[],[]]\n",
    "while 1:\n",
    "    a = input()\n",
    "    if a is '':\n",
    "        break\n",
    "        \n",
    "    try:\n",
    "        b = int(a)\n",
    "        if b < 0:\n",
    "            myNumList[0].append(b)\n",
    "        elif b == 0:\n",
    "            myNumList[1].append(b)\n",
    "        else:\n",
    "            myNumList[2].append(b)\n",
    "    except ValueError:\n",
    "        print('정수를 입력하세요.')\n",
    "\n",
    "for eachList in myNumList:\n",
    "    for j in eachList:\n",
    "        print(j)"
   ]
  },
  {
   "cell_type": "markdown",
   "metadata": {},
   "source": [
    "### 4. exercise 110"
   ]
  },
  {
   "cell_type": "code",
   "execution_count": 4,
   "metadata": {},
   "outputs": [
    {
     "name": "stdout",
     "output_type": "stream",
     "text": [
      "6\n",
      "28\n",
      "496\n",
      "8128\n"
     ]
    }
   ],
   "source": [
    "def perfectInteger(n):\n",
    "#    myPerfectList = []\n",
    "    perfectSum = 0\n",
    "    for i in range(1,n):\n",
    "        if n % i == 0:\n",
    "#            myPerfectList.append(i)\n",
    "            perfectSum += i\n",
    "    if perfectSum == n:\n",
    "        return True\n",
    "    else:\n",
    "        return False\n",
    "\n",
    "def main():\n",
    "    for i in range(1,10_000):\n",
    "        if perfectInteger(i):\n",
    "            print(i)\n",
    "\n",
    "if __name__ == \"__main__\":\n",
    "    main()"
   ]
  },
  {
   "cell_type": "code",
   "execution_count": 3,
   "metadata": {},
   "outputs": [
    {
     "name": "stdout",
     "output_type": "stream",
     "text": [
      "6\n",
      "28\n",
      "496\n",
      "8128\n"
     ]
    }
   ],
   "source": [
    "# professor's answer\n",
    "# 공약수는 절반이상 볼 필요가 없음 (for문의 반복횟수가 절반)\n",
    "# or 소인수 분해 (역추적)\n",
    "\n",
    "def perfectInteger(n):\n",
    "#    myPerfectList = []\n",
    "    perfectSum = 0\n",
    "    for i in range(1,n//2+1):\n",
    "        if n % i == 0:\n",
    "#            myPerfectList.append(i)\n",
    "            perfectSum += i\n",
    "    if perfectSum == n:\n",
    "        return True\n",
    "    else:\n",
    "        return False\n",
    "\n",
    "def main():\n",
    "    for i in range(1,10_000):\n",
    "        if perfectInteger(i):\n",
    "            print(i)\n",
    "\n",
    "if __name__ == \"__main__\":\n",
    "    main()"
   ]
  },
  {
   "cell_type": "markdown",
   "metadata": {},
   "source": [
    "### 5. exercise 113"
   ]
  },
  {
   "cell_type": "code",
   "execution_count": 15,
   "metadata": {
    "scrolled": true
   },
   "outputs": [
    {
     "name": "stdout",
     "output_type": "stream",
     "text": [
      "2\n",
      "#\n",
      "apples\n",
      "oranges\n",
      "bannas\n",
      "lemons\n",
      "\n",
      "apples, oranges, bannas and lemons\n"
     ]
    }
   ],
   "source": [
    "def format_define(aList):\n",
    "    resultStr = ''\n",
    "    for i in range(len(aList)):\n",
    "        if i == len(aList)-2:\n",
    "            resultStr += aList[i] +' and ' + aList[i+1]\n",
    "            return resultStr\n",
    "        \n",
    "        resultStr+=aList[i]+', '\n",
    "        \n",
    "def main():\n",
    "    myFormatList = []\n",
    "    while 1:\n",
    "        a = input()\n",
    "        if a is '':\n",
    "            break\n",
    "        if not str.isalpha(a):\n",
    "            continue\n",
    "        \n",
    "        myFormatList.append(a)\n",
    "    print(format_define(myFormatList))\n",
    "    \n",
    "if __name__ == \"__main__\":\n",
    "    main()"
   ]
  },
  {
   "cell_type": "markdown",
   "metadata": {},
   "source": [
    "### 6. exercise 114"
   ]
  },
  {
   "cell_type": "code",
   "execution_count": 17,
   "metadata": {},
   "outputs": [],
   "source": [
    "import random"
   ]
  },
  {
   "cell_type": "code",
   "execution_count": 30,
   "metadata": {},
   "outputs": [
    {
     "name": "stdout",
     "output_type": "stream",
     "text": [
      "2\n",
      "6\n",
      "12\n",
      "36\n",
      "41\n",
      "42\n"
     ]
    }
   ],
   "source": [
    "randList = []\n",
    "flag = True\n",
    "while len(randList)!=6 :\n",
    "    randNum = random.randrange(1,50)\n",
    "    if not randNum in randList:\n",
    "        randList.append(randNum)\n",
    "randList.sort()\n",
    "for i in randList:\n",
    "    print(i)"
   ]
  },
  {
   "cell_type": "markdown",
   "metadata": {},
   "source": [
    "### 7. exercise 134"
   ]
  },
  {
   "cell_type": "code",
   "execution_count": 37,
   "metadata": {},
   "outputs": [
    {
     "name": "stdout",
     "output_type": "stream",
     "text": [
      "zzz\n",
      "1\n"
     ]
    }
   ],
   "source": [
    "inp = input()\n",
    "inp = set(inp)\n",
    "print(len(inp))"
   ]
  },
  {
   "cell_type": "markdown",
   "metadata": {},
   "source": [
    "### 8. exercise 135"
   ]
  },
  {
   "cell_type": "code",
   "execution_count": 47,
   "metadata": {},
   "outputs": [
    {
     "name": "stdout",
     "output_type": "stream",
     "text": [
      "evil\n",
      "livee\n",
      "False\n"
     ]
    }
   ],
   "source": [
    "inp1 = list(input())\n",
    "inp2 = list(input())\n",
    "\n",
    "flag = False\n",
    "for i in inp2:\n",
    "    if len(inp1) == 0:\n",
    "        flag = False\n",
    "        break\n",
    "\n",
    "    if i in inp1:\n",
    "        inp1.pop(inp1.index(i))\n",
    "    \n",
    "    if i == inp2[-1] and len(inp1) == 0:\n",
    "        flag = True\n",
    "\n",
    "if flag :\n",
    "    print('True')\n",
    "else:\n",
    "    print('False')"
   ]
  },
  {
   "cell_type": "code",
   "execution_count": null,
   "metadata": {},
   "outputs": [],
   "source": []
  }
 ],
 "metadata": {
  "kernelspec": {
   "display_name": "Python 3",
   "language": "python",
   "name": "python3"
  },
  "language_info": {
   "codemirror_mode": {
    "name": "ipython",
    "version": 3
   },
   "file_extension": ".py",
   "mimetype": "text/x-python",
   "name": "python",
   "nbconvert_exporter": "python",
   "pygments_lexer": "ipython3",
   "version": "3.6.5"
  }
 },
 "nbformat": 4,
 "nbformat_minor": 2
}
