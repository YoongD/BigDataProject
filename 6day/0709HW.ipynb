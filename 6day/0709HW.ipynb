{
 "cells": [
  {
   "cell_type": "markdown",
   "metadata": {},
   "source": [
    "# 빅데이터 교육 6일차 과제 (박윤지) "
   ]
  },
  {
   "cell_type": "markdown",
   "metadata": {},
   "source": [
    "### Exercise 129: Two Dice simulation"
   ]
  },
  {
   "cell_type": "code",
   "execution_count": 1,
   "metadata": {},
   "outputs": [],
   "source": [
    "import random"
   ]
  },
  {
   "cell_type": "code",
   "execution_count": 24,
   "metadata": {},
   "outputs": [
    {
     "name": "stdout",
     "output_type": "stream",
     "text": [
      "Total     simulated     Expected\n",
      "           percent       percent\n",
      "    2         3.00         2.78\n",
      "    3         6.60         5.56\n",
      "    4         7.50         8.33\n",
      "    5        11.00        11.11\n",
      "    6        15.10        13.89\n",
      "    7        15.50        16.67\n",
      "    8        13.90        13.89\n",
      "    9        10.90        11.11\n",
      "   10         9.10         8.33\n",
      "   11         4.70         5.56\n",
      "   12         2.70         2.78\n"
     ]
    }
   ],
   "source": [
    "def rollDice():\n",
    "    a = random.randrange(1,7)\n",
    "    b = random.randrange(1,7)    \n",
    "    return a+b\n",
    "    \n",
    "def main():\n",
    "    rollSumDic = dict()\n",
    "    expectedDic = dict()\n",
    "    for i in range(2,13):  # initialize\n",
    "        rollSumDic[i] = 0\n",
    "        expectedDic[i] = 0\n",
    "        \n",
    "    for i in range(1,7):\n",
    "        for j in range(1,7):\n",
    "            expectedDic[i+j] += 1\n",
    "    \n",
    "    print('Total     simulated     Expected')\n",
    "    print('           percent       percent')\n",
    "    for i in range(1000):\n",
    "        rollSumDic[rollDice()] += 1\n",
    "\n",
    "    for i in range(2,13):\n",
    "        print(\"%5d%13.2f%13.2f\"%(i,rollSumDic[i]/10.0 ,expectedDic[i]/(6*6)*100))\n",
    "\n",
    "if __name__ == \"__main__\":\n",
    "    main()"
   ]
  },
  {
   "cell_type": "markdown",
   "metadata": {},
   "source": [
    "### Exercise 130: Text Messaging"
   ]
  },
  {
   "cell_type": "code",
   "execution_count": 56,
   "metadata": {},
   "outputs": [
    {
     "name": "stdout",
     "output_type": "stream",
     "text": [
      "4433555555666110966677755531111\n",
      "HELLO, WORLD!\n"
     ]
    }
   ],
   "source": [
    "keySymbol = {'1':['.',',','?','!',':'], '2':['A','B','C'], '3':['D','E','F'], '4':['G','H','I'], '5':['J','K','L'],'6':['M','N','O'], \n",
    "             '7':['P','Q','R','S'],'8':['T','U','V'], '9':['W','X','Y','Z'], '0':[' ']}\n",
    "\n",
    "inp = input()\n",
    "result = ''\n",
    "cnt = 0\n",
    "for i in range(len(inp)):\n",
    "    if i != len(inp)-1 and inp[i] == inp[i+1]:\n",
    "        cnt += 1\n",
    "        if cnt != len(keySymbol[inp[i]]):\n",
    "            continue\n",
    "        else:\n",
    "            cnt -= 1\n",
    "\n",
    "    result += keySymbol[inp[i]][cnt]\n",
    "    cnt = 0\n",
    "    \n",
    "print(result)"
   ]
  },
  {
   "cell_type": "markdown",
   "metadata": {},
   "source": [
    "### Exercise 131: Morse Code"
   ]
  },
  {
   "cell_type": "code",
   "execution_count": 55,
   "metadata": {},
   "outputs": [
    {
     "name": "stdout",
     "output_type": "stream",
     "text": [
      ".... . .-.. .-.. --- .-- --- .-. .-.. -..\n",
      "HELLOWORLD\n"
     ]
    }
   ],
   "source": [
    "morseDic = {'..-.': 'F', '-..-': 'X',\n",
    "                 '.--.': 'P', '-': 'T', '..---': '2',\n",
    "                 '....-': '4', '-----': '0', '--...': '7',\n",
    "                 '...-': 'V', '-.-.': 'C', '.': 'E', '.---': 'J',\n",
    "                 '---': 'O', '-.-': 'K', '----.': '9', '..': 'I',\n",
    "                 '.-..': 'L', '.....': '5', '...--': '3', '-.--': 'Y',\n",
    "                 '-....': '6', '.--': 'W', '....': 'H', '-.': 'N', '.-.': 'R',\n",
    "                 '-...': 'B', '---..': '8', '--..': 'Z', '-..': 'D', '--.-': 'Q',\n",
    "                 '--.': 'G', '--': 'M', '..-': 'U', '.-': 'A', '...': 'S', '.----': '1'}\n",
    "\n",
    "inp = input()\n",
    "resultStr = ''\n",
    "trimed = inp.split()\n",
    "for i in trimed:\n",
    "    resultStr += morseDic[i]\n",
    "\n",
    "print(resultStr)"
   ]
  },
  {
   "cell_type": "markdown",
   "metadata": {},
   "source": [
    "### Exercise 132: Postal Codes"
   ]
  },
  {
   "cell_type": "code",
   "execution_count": 4,
   "metadata": {},
   "outputs": [
    {
     "name": "stdout",
     "output_type": "stream",
     "text": [
      "T2N 1N4\n",
      "The postal code is for an urban address in Alberta\n"
     ]
    }
   ],
   "source": [
    "postalDic = {'A':'Newfoundland', 'B':'Nova Scotia', 'C':'Prince Edward Island', 'E':'New Brunswick', 'G':'Quebec', 'H':'Quebec', 'J':'Quebec',\n",
    "            'K':'Ontario','L':'Ontario','M':'Ontario','N':'Ontario','P':'Ontario','R':'Manitoba', 'S':'Saskatchewan', 'T':'Alberta',\n",
    "            'V':'British Columbia', 'X':['Nunavut','Northwest Territories'],'Y':'Yukon'}\n",
    "inp = input()\n",
    "\n",
    "nonFirstChar = ['D','F','I','O','Q','U','W','Z']\n",
    "if inp[0] in nonFirstChar:\n",
    "    print('Error1: No valid postal codes!')\n",
    "else:\n",
    "    # 공백제거\n",
    "    trimedStr = inp.split()\n",
    "    inp2 = ''\n",
    "    for i in trimedStr:\n",
    "        inp2 += i\n",
    "    \n",
    "    \n",
    "    if inp2[0] not in postalDic.keys():\n",
    "        print('Error2: No valid postal codes!')\n",
    "        exit(1)\n",
    "        \n",
    "    for i in range(len(inp2)):\n",
    "        if (i%2 == 0 and not str.isalpha(inp2[i])) or (i%2 ==1 and not str.isdigit(inp2[i])):\n",
    "            print('Error3: No valid postal codes!')\n",
    "            exit(1)\n",
    "    \n",
    "    if type(postalDic[inp2[0]]) is list:\n",
    "        if inp2[1] == 0:\n",
    "            print('The postal code is for a rural address in',postalDic[inp2[0]][0],'and', postalDic[inp2[0]][1])\n",
    "        else:\n",
    "            print('The postal code is for an urban address in',postalDic[inp2[0]][0],'and', postalDic[inp2[0]][1])\n",
    "            \n",
    "    else:\n",
    "        if inp2[1] == 0:\n",
    "            print('The postal code is for a rural address in',postalDic[inp2[0]])\n",
    "        else:\n",
    "            print('The postal code is for an urban address in',postalDic[inp2[0]])"
   ]
  },
  {
   "cell_type": "code",
   "execution_count": null,
   "metadata": {},
   "outputs": [],
   "source": []
  }
 ],
 "metadata": {
  "kernelspec": {
   "display_name": "Python 3",
   "language": "python",
   "name": "python3"
  },
  "language_info": {
   "codemirror_mode": {
    "name": "ipython",
    "version": 3
   },
   "file_extension": ".py",
   "mimetype": "text/x-python",
   "name": "python",
   "nbconvert_exporter": "python",
   "pygments_lexer": "ipython3",
   "version": "3.6.5"
  }
 },
 "nbformat": 4,
 "nbformat_minor": 2
}
