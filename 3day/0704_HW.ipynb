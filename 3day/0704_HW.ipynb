{
 "cells": [
  {
   "cell_type": "markdown",
   "metadata": {},
   "source": [
    "# 빅데이터 3일차 과제 (박윤지)"
   ]
  },
  {
   "cell_type": "markdown",
   "metadata": {},
   "source": [
    "### Exercise 61: Average"
   ]
  },
  {
   "cell_type": "code",
   "execution_count": 9,
   "metadata": {},
   "outputs": [],
   "source": [
    "import math"
   ]
  },
  {
   "cell_type": "code",
   "execution_count": 11,
   "metadata": {},
   "outputs": [
    {
     "name": "stdout",
     "output_type": "stream",
     "text": [
      "1\n",
      "2\n",
      "3\n",
      "4\n",
      "5\n",
      "0\n",
      "<result>\n",
      "3.0\n"
     ]
    }
   ],
   "source": [
    "myList = []\n",
    "while 1:\n",
    "    a = input()\n",
    "    try:\n",
    "        b = float(a)\n",
    "        if b == 0:\n",
    "            break\n",
    "        myList.append(b)\n",
    "    except ValueError:\n",
    "        print('숫자를 입력하세요.')\n",
    "\n",
    "print('<result>')\n",
    "print(math.fsum(myList)/len(myList))"
   ]
  },
  {
   "cell_type": "markdown",
   "metadata": {},
   "source": [
    "### Exercise 63: Temperature Conversion Table"
   ]
  },
  {
   "cell_type": "code",
   "execution_count": 12,
   "metadata": {},
   "outputs": [],
   "source": [
    "import pandas as pd"
   ]
  },
  {
   "cell_type": "code",
   "execution_count": 13,
   "metadata": {},
   "outputs": [
    {
     "data": {
      "text/html": [
       "<div>\n",
       "<style scoped>\n",
       "    .dataframe tbody tr th:only-of-type {\n",
       "        vertical-align: middle;\n",
       "    }\n",
       "\n",
       "    .dataframe tbody tr th {\n",
       "        vertical-align: top;\n",
       "    }\n",
       "\n",
       "    .dataframe thead th {\n",
       "        text-align: right;\n",
       "    }\n",
       "</style>\n",
       "<table border=\"1\" class=\"dataframe\">\n",
       "  <thead>\n",
       "    <tr style=\"text-align: right;\">\n",
       "      <th></th>\n",
       "      <th>0</th>\n",
       "      <th>1</th>\n",
       "      <th>2</th>\n",
       "      <th>3</th>\n",
       "      <th>4</th>\n",
       "      <th>5</th>\n",
       "      <th>6</th>\n",
       "      <th>7</th>\n",
       "      <th>8</th>\n",
       "      <th>9</th>\n",
       "    </tr>\n",
       "  </thead>\n",
       "  <tbody>\n",
       "    <tr>\n",
       "      <th>0</th>\n",
       "      <td>32.0</td>\n",
       "      <td>33.8</td>\n",
       "      <td>35.6</td>\n",
       "      <td>37.4</td>\n",
       "      <td>39.2</td>\n",
       "      <td>41.0</td>\n",
       "      <td>42.8</td>\n",
       "      <td>44.6</td>\n",
       "      <td>46.4</td>\n",
       "      <td>48.2</td>\n",
       "    </tr>\n",
       "    <tr>\n",
       "      <th>10</th>\n",
       "      <td>50.0</td>\n",
       "      <td>51.8</td>\n",
       "      <td>53.6</td>\n",
       "      <td>55.4</td>\n",
       "      <td>57.2</td>\n",
       "      <td>59.0</td>\n",
       "      <td>60.8</td>\n",
       "      <td>62.6</td>\n",
       "      <td>64.4</td>\n",
       "      <td>66.2</td>\n",
       "    </tr>\n",
       "    <tr>\n",
       "      <th>20</th>\n",
       "      <td>68.0</td>\n",
       "      <td>69.8</td>\n",
       "      <td>71.6</td>\n",
       "      <td>73.4</td>\n",
       "      <td>75.2</td>\n",
       "      <td>77.0</td>\n",
       "      <td>78.8</td>\n",
       "      <td>80.6</td>\n",
       "      <td>82.4</td>\n",
       "      <td>84.2</td>\n",
       "    </tr>\n",
       "    <tr>\n",
       "      <th>30</th>\n",
       "      <td>86.0</td>\n",
       "      <td>87.8</td>\n",
       "      <td>89.6</td>\n",
       "      <td>91.4</td>\n",
       "      <td>93.2</td>\n",
       "      <td>95.0</td>\n",
       "      <td>96.8</td>\n",
       "      <td>98.6</td>\n",
       "      <td>100.4</td>\n",
       "      <td>102.2</td>\n",
       "    </tr>\n",
       "    <tr>\n",
       "      <th>40</th>\n",
       "      <td>104.0</td>\n",
       "      <td>105.8</td>\n",
       "      <td>107.6</td>\n",
       "      <td>109.4</td>\n",
       "      <td>111.2</td>\n",
       "      <td>113.0</td>\n",
       "      <td>114.8</td>\n",
       "      <td>116.6</td>\n",
       "      <td>118.4</td>\n",
       "      <td>120.2</td>\n",
       "    </tr>\n",
       "    <tr>\n",
       "      <th>50</th>\n",
       "      <td>122.0</td>\n",
       "      <td>123.8</td>\n",
       "      <td>125.6</td>\n",
       "      <td>127.4</td>\n",
       "      <td>129.2</td>\n",
       "      <td>131.0</td>\n",
       "      <td>132.8</td>\n",
       "      <td>134.6</td>\n",
       "      <td>136.4</td>\n",
       "      <td>138.2</td>\n",
       "    </tr>\n",
       "    <tr>\n",
       "      <th>60</th>\n",
       "      <td>140.0</td>\n",
       "      <td>141.8</td>\n",
       "      <td>143.6</td>\n",
       "      <td>145.4</td>\n",
       "      <td>147.2</td>\n",
       "      <td>149.0</td>\n",
       "      <td>150.8</td>\n",
       "      <td>152.6</td>\n",
       "      <td>154.4</td>\n",
       "      <td>156.2</td>\n",
       "    </tr>\n",
       "    <tr>\n",
       "      <th>70</th>\n",
       "      <td>158.0</td>\n",
       "      <td>159.8</td>\n",
       "      <td>161.6</td>\n",
       "      <td>163.4</td>\n",
       "      <td>165.2</td>\n",
       "      <td>167.0</td>\n",
       "      <td>168.8</td>\n",
       "      <td>170.6</td>\n",
       "      <td>172.4</td>\n",
       "      <td>174.2</td>\n",
       "    </tr>\n",
       "    <tr>\n",
       "      <th>80</th>\n",
       "      <td>176.0</td>\n",
       "      <td>177.8</td>\n",
       "      <td>179.6</td>\n",
       "      <td>181.4</td>\n",
       "      <td>183.2</td>\n",
       "      <td>185.0</td>\n",
       "      <td>186.8</td>\n",
       "      <td>188.6</td>\n",
       "      <td>190.4</td>\n",
       "      <td>192.2</td>\n",
       "    </tr>\n",
       "    <tr>\n",
       "      <th>90</th>\n",
       "      <td>194.0</td>\n",
       "      <td>195.8</td>\n",
       "      <td>197.6</td>\n",
       "      <td>199.4</td>\n",
       "      <td>201.2</td>\n",
       "      <td>203.0</td>\n",
       "      <td>204.8</td>\n",
       "      <td>206.6</td>\n",
       "      <td>208.4</td>\n",
       "      <td>210.2</td>\n",
       "    </tr>\n",
       "  </tbody>\n",
       "</table>\n",
       "</div>"
      ],
      "text/plain": [
       "        0      1      2      3      4      5      6      7      8      9\n",
       "0    32.0   33.8   35.6   37.4   39.2   41.0   42.8   44.6   46.4   48.2\n",
       "10   50.0   51.8   53.6   55.4   57.2   59.0   60.8   62.6   64.4   66.2\n",
       "20   68.0   69.8   71.6   73.4   75.2   77.0   78.8   80.6   82.4   84.2\n",
       "30   86.0   87.8   89.6   91.4   93.2   95.0   96.8   98.6  100.4  102.2\n",
       "40  104.0  105.8  107.6  109.4  111.2  113.0  114.8  116.6  118.4  120.2\n",
       "50  122.0  123.8  125.6  127.4  129.2  131.0  132.8  134.6  136.4  138.2\n",
       "60  140.0  141.8  143.6  145.4  147.2  149.0  150.8  152.6  154.4  156.2\n",
       "70  158.0  159.8  161.6  163.4  165.2  167.0  168.8  170.6  172.4  174.2\n",
       "80  176.0  177.8  179.6  181.4  183.2  185.0  186.8  188.6  190.4  192.2\n",
       "90  194.0  195.8  197.6  199.4  201.2  203.0  204.8  206.6  208.4  210.2"
      ]
     },
     "execution_count": 13,
     "metadata": {},
     "output_type": "execute_result"
    }
   ],
   "source": [
    "def Cel_to_Fa(Cel):\n",
    "    return (Cel*1.8)+32\n",
    "\n",
    "data = []\n",
    "for i in range(0, 10):\n",
    "    tempList = []\n",
    "    for j in range(0, 10):\n",
    "        tempList.append(Cel_to_Fa(10*j+i))\n",
    "    data.append(tempList)\n",
    "\n",
    "myDict = dict()\n",
    "k = 0\n",
    "for i in range(0,10):\n",
    "    myDict[i] = data[i]\n",
    "    \n",
    "df = pd.DataFrame(myDict, index=[str(i) for i in range(0,100,10)])\n",
    "df"
   ]
  },
  {
   "cell_type": "markdown",
   "metadata": {},
   "source": [
    "### Exercise 66: Compute a Grade Point Average"
   ]
  },
  {
   "cell_type": "code",
   "execution_count": 14,
   "metadata": {},
   "outputs": [
    {
     "name": "stdout",
     "output_type": "stream",
     "text": [
      "A\n",
      "C+\n",
      "B\n",
      "\n",
      "3.1\n"
     ]
    }
   ],
   "source": [
    "myGradeList = []\n",
    "myGradeSum = 0\n",
    "myGradeCnt = 0\n",
    "gradeDict = {'A+':4.0, 'A':4.0, 'A-':3.7, 'B+':3.3, 'B':3.0, 'B-':2.7, 'C+':2.3, 'C':2.0, 'C-':1.7, 'D+':1.3, 'D':1.0, 'F':0}\n",
    "while 1:\n",
    "    a = input()\n",
    "    if a == '':\n",
    "        break\n",
    "    if a not in gradeDict:\n",
    "        print('It is not a grade.')\n",
    "        continue\n",
    "#    myGradeList.append(a)\n",
    "    myGradeSum += gradeDict[a]\n",
    "    myGradeCnt += 1\n",
    "\n",
    "print(myGradeSum/myGradeCnt)"
   ]
  },
  {
   "cell_type": "markdown",
   "metadata": {},
   "source": [
    "### Exercise 67: Admission Price"
   ]
  },
  {
   "cell_type": "code",
   "execution_count": 15,
   "metadata": {},
   "outputs": [
    {
     "name": "stdout",
     "output_type": "stream",
     "text": [
      "4\n",
      "2\n",
      "34\n",
      "67\n",
      "\n",
      "55.00\n"
     ]
    }
   ],
   "source": [
    "myList = []\n",
    "myPriceSum = .00\n",
    "while 1:\n",
    "    a = input()\n",
    "    if a == '':\n",
    "        break\n",
    "        \n",
    "    try:\n",
    "        b = int(a)\n",
    "        if b >=65 :\n",
    "            myPriceSum += 18.00\n",
    "        elif 3<= b <= 12:\n",
    "            myPriceSum += 14.00\n",
    "        elif b <=2:\n",
    "            pass\n",
    "        else:\n",
    "            myPriceSum += 23.00\n",
    "            \n",
    "    except ValueError:\n",
    "        print('숫자를 입력하세요.')\n",
    "\n",
    "print('%.2f'%myPriceSum)"
   ]
  },
  {
   "cell_type": "markdown",
   "metadata": {},
   "source": [
    "### Exercise 72: Is a String a Palindrome?"
   ]
  },
  {
   "cell_type": "code",
   "execution_count": 16,
   "metadata": {},
   "outputs": [
    {
     "name": "stdout",
     "output_type": "stream",
     "text": [
      "civic\n",
      "civic is a PalinDrome!\n"
     ]
    }
   ],
   "source": [
    "myStr = input()\n",
    "flag = True\n",
    "\n",
    "for i in range(len(myStr)//2):\n",
    "    if not myStr[i] == myStr[-i-1]:\n",
    "        flag = False\n",
    "        break\n",
    "        \n",
    "if flag is True:\n",
    "    print(myStr,'is a PalinDrome!')\n",
    "else:\n",
    "    print(myStr,'is not a PanlinDrome!')"
   ]
  },
  {
   "cell_type": "markdown",
   "metadata": {},
   "source": [
    "### Exercise 74: Multiplication Table"
   ]
  },
  {
   "cell_type": "code",
   "execution_count": 17,
   "metadata": {},
   "outputs": [
    {
     "name": "stdout",
     "output_type": "stream",
     "text": [
      "      1   2   3   4   5   6   7   8   9  10 \n",
      "  1   1   2   3   4   5   6   7   8   9  10 \n",
      "  2   2   4   6   8  10  12  14  16  18  20 \n",
      "  3   3   6   9  12  15  18  21  24  27  30 \n",
      "  4   4   8  12  16  20  24  28  32  36  40 \n",
      "  5   5  10  15  20  25  30  35  40  45  50 \n",
      "  6   6  12  18  24  30  36  42  48  54  60 \n",
      "  7   7  14  21  28  35  42  49  56  63  70 \n",
      "  8   8  16  24  32  40  48  56  64  72  80 \n",
      "  9   9  18  27  36  45  54  63  72  81  90 \n",
      " 10  10  20  30  40  50  60  70  80  90 100 \n"
     ]
    }
   ],
   "source": [
    "for i in range(11):\n",
    "    for j in range(11):\n",
    "        if i is 0 and j is 0:\n",
    "            print(end='    ')\n",
    "        elif i is 0 and j is not 0:\n",
    "            print('%3d'%j,end=' ')\n",
    "        elif i is not 0 and j is 0:\n",
    "            print('%3d'%i,end=' ')\n",
    "        else:\n",
    "            print('%3d'%(i*j), end=' ')\n",
    "    print()"
   ]
  },
  {
   "cell_type": "markdown",
   "metadata": {},
   "source": [
    "### Exercise 75: Greatest Common Divisor"
   ]
  },
  {
   "cell_type": "code",
   "execution_count": 18,
   "metadata": {},
   "outputs": [
    {
     "name": "stdout",
     "output_type": "stream",
     "text": [
      "25\n",
      "75\n",
      "25 is the greatest common divisor of 25 and 75\n"
     ]
    }
   ],
   "source": [
    "# 입력부\n",
    "myIntList = []\n",
    "cnt = 0\n",
    "result = -1\n",
    "while cnt < 2:\n",
    "    a = input()\n",
    "    try:\n",
    "        b = int(a)\n",
    "        if b <= 0:\n",
    "            print('Not Positive Integer')\n",
    "            continue\n",
    "        myIntList.append(b)\n",
    "        cnt += 1\n",
    "    except ValueError:\n",
    "        print('Not Integer')\n",
    "\n",
    "for d in range(min(myIntList),0,-1):\n",
    "    if myIntList[0] % d == 0 and myIntList[1] %d == 0 :\n",
    "        result = d\n",
    "        break\n",
    "\n",
    "if result > 0:\n",
    "    print(result,'is the greatest common divisor of',myIntList[0], 'and', myIntList[1])\n",
    "else:\n",
    "    print('There is no common divisior of', myIntList[0], 'and', myIntList[1])"
   ]
  },
  {
   "cell_type": "markdown",
   "metadata": {},
   "source": [
    "### Exercise 77: Binary to Decimal"
   ]
  },
  {
   "cell_type": "code",
   "execution_count": 2,
   "metadata": {},
   "outputs": [
    {
     "name": "stdout",
     "output_type": "stream",
     "text": [
      "a\n",
      "Not binary digit\n",
      "32\n",
      "Not binary digit\n",
      "11\n",
      "3\n"
     ]
    }
   ],
   "source": [
    "Flag = True\n",
    "while Flag:\n",
    "    myBi = input()\n",
    "    if not str.isdigit(myBi):\n",
    "        print('Not binary digit')\n",
    "        continue\n",
    "    for i in myBi:\n",
    "        if (i is not '0') and (i is not '1'):\n",
    "            print('Not binary digit')\n",
    "            break\n",
    "        if i is myBi[-1]:\n",
    "            Flag = False\n",
    "\n",
    "print(int(myBi,2))"
   ]
  },
  {
   "cell_type": "markdown",
   "metadata": {},
   "source": [
    "### Exercise 78: Decimal to Binary"
   ]
  },
  {
   "cell_type": "code",
   "execution_count": 8,
   "metadata": {},
   "outputs": [
    {
     "name": "stdout",
     "output_type": "stream",
     "text": [
      "31\n",
      "11111\n"
     ]
    }
   ],
   "source": [
    "myDecimal = -1\n",
    "while 1:\n",
    "    myDecimal = input()\n",
    "    if not str.isdigit(myBi):\n",
    "        print('Not binary digit')\n",
    "        continue\n",
    "    myDecimal = int(myDecimal)\n",
    "    break\n",
    "\n",
    "results = ''\n",
    "q = myDecimal\n",
    "while q>0:\n",
    "    r = q% 2\n",
    "    results = str(r) + results\n",
    "    q = q//2\n",
    "\n",
    "print(results)"
   ]
  },
  {
   "cell_type": "code",
   "execution_count": null,
   "metadata": {},
   "outputs": [],
   "source": []
  }
 ],
 "metadata": {
  "kernelspec": {
   "display_name": "Python 3",
   "language": "python",
   "name": "python3"
  },
  "language_info": {
   "codemirror_mode": {
    "name": "ipython",
    "version": 3
   },
   "file_extension": ".py",
   "mimetype": "text/x-python",
   "name": "python",
   "nbconvert_exporter": "python",
   "pygments_lexer": "ipython3",
   "version": "3.6.5"
  }
 },
 "nbformat": 4,
 "nbformat_minor": 2
}
