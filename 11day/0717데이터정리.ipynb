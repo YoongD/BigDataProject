{
 "cells": [
  {
   "cell_type": "markdown",
   "metadata": {},
   "source": [
    "# 프로젝트 데이터 모음 정리 (박윤지)"
   ]
  },
  {
   "cell_type": "markdown",
   "metadata": {},
   "source": [
    "### 문화관련 데이터"
   ]
  },
  {
   "cell_type": "markdown",
   "metadata": {},
   "source": [
    "- 지역(서울특별시) 문화행사 정보\n",
    "- 지역(서울특별시) 문화시설 정보\n",
    "- 문화공간 통계\n",
    "- 서울특별시 지역구(송파구, 은평구, 영등포구..) 문화축제 정보\n",
    "- 공연행사 정보\n",
    "- 교육 및 문화 정보(공연행사정보)"
   ]
  },
  {
   "cell_type": "markdown",
   "metadata": {},
   "source": [
    "### 특정 지역 상권 분석 데이터"
   ]
  },
  {
   "cell_type": "markdown",
   "metadata": {},
   "source": [
    "- 카드사 매출 정보 데이터\n",
    "- 통신사 유동 인구 데이터\n",
    "- 지역 상가(상권) 정보\n",
    "- sns 키워드 데이터\n",
    "- 요일별/성별 유동인구 데이터\n",
    "- 지하철 승하차 인원 데이터\n",
    "- 지역(서울특별시) 문화기반 통계"
   ]
  },
  {
   "cell_type": "code",
   "execution_count": null,
   "metadata": {},
   "outputs": [],
   "source": []
  }
 ],
 "metadata": {
  "kernelspec": {
   "display_name": "Python 3",
   "language": "python",
   "name": "python3"
  },
  "language_info": {
   "codemirror_mode": {
    "name": "ipython",
    "version": 3
   },
   "file_extension": ".py",
   "mimetype": "text/x-python",
   "name": "python",
   "nbconvert_exporter": "python",
   "pygments_lexer": "ipython3",
   "version": "3.6.5"
  }
 },
 "nbformat": 4,
 "nbformat_minor": 2
}
