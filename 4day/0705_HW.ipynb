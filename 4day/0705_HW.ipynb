{
 "cells": [
  {
   "cell_type": "markdown",
   "metadata": {},
   "source": [
    "# 빅데이터 교육 4일차 과제 (박윤지)"
   ]
  },
  {
   "cell_type": "markdown",
   "metadata": {},
   "source": [
    "### Exercise 82: Taxi Fare"
   ]
  },
  {
   "cell_type": "code",
   "execution_count": 1,
   "metadata": {},
   "outputs": [
    {
     "name": "stdout",
     "output_type": "stream",
     "text": [
      "1 killos fare: 5.75\n"
     ]
    }
   ],
   "source": [
    "def totalFare(distance):\n",
    "    taxiFare = 4.00\n",
    "    meterD = distance*1000\n",
    "    return taxiFare+0.25*(meterD//140)\n",
    "\n",
    "print('1 killo''s fare:',totalFare(1))"
   ]
  },
  {
   "cell_type": "markdown",
   "metadata": {},
   "source": [
    "### Exercise 84: Median of Three Values"
   ]
  },
  {
   "cell_type": "code",
   "execution_count": 5,
   "metadata": {},
   "outputs": [
    {
     "name": "stdout",
     "output_type": "stream",
     "text": [
      "16\n"
     ]
    }
   ],
   "source": [
    "def myFunc(x,y,z):\n",
    "    myList = [x,y,z]\n",
    "    myList.sort()\n",
    "    return myList[1]\n",
    "\n",
    "x,y,z = 17,11,16\n",
    "print(myFunc(x,y,z))"
   ]
  },
  {
   "cell_type": "markdown",
   "metadata": {},
   "source": [
    "### Exercise 85: Convert an Integer to its Ordinal Number"
   ]
  },
  {
   "cell_type": "code",
   "execution_count": 9,
   "metadata": {},
   "outputs": [
    {
     "name": "stdout",
     "output_type": "stream",
     "text": [
      "1 : first\n",
      "2 : second\n",
      "3 : third\n",
      "4 : fourth\n",
      "5 : fifth\n",
      "6 : sixth\n",
      "7 : seventh\n",
      "8 : eighth\n",
      "9 : nineth\n",
      "10 : tenth\n",
      "11 : eleventh\n",
      "12 : tweleveth\n"
     ]
    }
   ],
   "source": [
    "myDict = {1:'first', 2:'second', 3:'third', 4:'fourth', 5:'fifth', 6:'sixth', 7:'seventh', 8:'eighth', 9:'nineth', 10:'tenth', 11:'eleventh', 12:'tweleveth'}\n",
    "def toOrdinal(integer1):\n",
    "    if 0<integer1<13:\n",
    "        return myDict[integer1]\n",
    "    else:\n",
    "        return ''\n",
    " \n",
    "\n",
    "for i in range(1,13):\n",
    "    print(i,':',toOrdinal(i))"
   ]
  },
  {
   "cell_type": "markdown",
   "metadata": {},
   "source": [
    "### Exercise 88: Is it a Valid Triangle?"
   ]
  },
  {
   "cell_type": "code",
   "execution_count": 12,
   "metadata": {},
   "outputs": [
    {
     "name": "stdout",
     "output_type": "stream",
     "text": [
      "2\n",
      "2\n",
      "6\n",
      "False\n"
     ]
    }
   ],
   "source": [
    "def isTriangle(x,y,z) :\n",
    "    myList = [x,y,z]\n",
    "    myList.sort()\n",
    "    if myList[0] + myList[1] > myList[2]:\n",
    "        return True\n",
    "    else:\n",
    "        return False\n",
    "\n",
    "\n",
    "myIntList = []\n",
    "while len(myIntList) < 3:\n",
    "    a = input()\n",
    "    try:\n",
    "        b = int(a)\n",
    "        myIntList.append(b)\n",
    "    except ValueError:\n",
    "        print('숫자를 입력하세요.')\n",
    "      \n",
    "print(isTriangle(myIntList[0], myIntList[1], myIntList[2]))"
   ]
  },
  {
   "cell_type": "markdown",
   "metadata": {},
   "source": [
    "### Exercise 92: Is a Number Prime?"
   ]
  },
  {
   "cell_type": "code",
   "execution_count": 15,
   "metadata": {},
   "outputs": [
    {
     "name": "stdout",
     "output_type": "stream",
     "text": [
      "11\n",
      "True\n"
     ]
    }
   ],
   "source": [
    "def isPrime(integer1) :\n",
    "    for i in range(2,integer1//2+1):\n",
    "        if integer1 % i == 0:\n",
    "            return False\n",
    "    return True\n",
    "\n",
    "def main():\n",
    "    while 1:\n",
    "        a = input()\n",
    "        try:\n",
    "            b = int(a)\n",
    "            break\n",
    "        except ValueError:\n",
    "            print('숫자를 입력하세요.')\n",
    "    print(isPrime(b))\n",
    "    \n",
    "if __name__ == \"__main__\":\n",
    "    main()"
   ]
  },
  {
   "cell_type": "code",
   "execution_count": null,
   "metadata": {},
   "outputs": [],
   "source": []
  }
 ],
 "metadata": {
  "kernelspec": {
   "display_name": "Python 3",
   "language": "python",
   "name": "python3"
  },
  "language_info": {
   "codemirror_mode": {
    "name": "ipython",
    "version": 3
   },
   "file_extension": ".py",
   "mimetype": "text/x-python",
   "name": "python",
   "nbconvert_exporter": "python",
   "pygments_lexer": "ipython3",
   "version": "3.6.5"
  }
 },
 "nbformat": 4,
 "nbformat_minor": 2
}
